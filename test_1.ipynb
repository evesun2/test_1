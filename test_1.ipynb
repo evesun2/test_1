{
 "cells": [
  {
   "cell_type": "markdown",
   "id": "eae90d63-f274-4c98-8c6a-b3609e576a72",
   "metadata": {},
   "source": [
    "# This is a test notebook"
   ]
  },
  {
   "cell_type": "markdown",
   "id": "be6c1d78-b9e6-4140-a861-0a89b16cbf75",
   "metadata": {},
   "source": [
    "testing testing"
   ]
  },
  {
   "cell_type": "code",
   "execution_count": 1,
   "id": "7a9481a2-f241-49ac-a470-035d0f88196b",
   "metadata": {},
   "outputs": [
    {
     "data": {
      "text/plain": [
       "5"
      ]
     },
     "execution_count": 1,
     "metadata": {},
     "output_type": "execute_result"
    }
   ],
   "source": [
    "x = 2\n",
    "\n",
    "y = x + 3\n",
    "y"
   ]
  },
  {
   "cell_type": "code",
   "execution_count": 2,
   "id": "86901f4c-c6ed-4c98-807f-85d85cc3a190",
   "metadata": {},
   "outputs": [],
   "source": [
    "oar = x * y"
   ]
  },
  {
   "cell_type": "code",
   "execution_count": null,
   "id": "28afd198-3c71-4adb-a635-b23b399f9dc5",
   "metadata": {},
   "outputs": [],
   "source": []
  }
 ],
 "metadata": {
  "kernelspec": {
   "display_name": "Python 3 (ipykernel)",
   "language": "python",
   "name": "python3"
  },
  "language_info": {
   "codemirror_mode": {
    "name": "ipython",
    "version": 3
   },
   "file_extension": ".py",
   "mimetype": "text/x-python",
   "name": "python",
   "nbconvert_exporter": "python",
   "pygments_lexer": "ipython3",
   "version": "3.8.11"
  }
 },
 "nbformat": 4,
 "nbformat_minor": 5
}
